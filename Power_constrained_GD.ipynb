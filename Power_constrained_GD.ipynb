{
 "cells": [
  {
   "cell_type": "code",
   "execution_count": null,
   "metadata": {},
   "outputs": [],
   "source": [
    "import json\n",
    "import matplotlib.pyplot as plt\n",
    "import math\n",
    "from math import cos, sin, tan"
   ]
  },
  {
   "cell_type": "code",
   "execution_count": null,
   "metadata": {},
   "outputs": [],
   "source": [
    "with open(\"car_info.json\", \"r\") as f:\n",
    "    constants = json.load(f)\n",
    "\n",
    "m = constants[\"car_mass\"] \\\n",
    "    + constants[\"occupant_mass\"] * constants[\"occupant_count\"]\n",
    "me = m + (constants[\"rotational_inertia_front\"]+constants[\"rotational_inertia_back\"])/constants[\"wheel_radius\"]**2\n",
    "Cdrag = constants[\"drag_coefficient\"]\n",
    "Croll = constants[\"rolling_resistance_coefficient\"]\n",
    "g = constants[\"gravity\"]\n",
    "rho = constants[\"air_density\"]\n",
    "frontal_area = constants[\"frontal_area\"]\n",
    "motor_efficiency = constants[\"motor_efficiency\"]\n",
    "auxiliary = constants[\"auxiliary_power\"]\n",
    "regen_efficiency = constants[\"regen_efficiency\"]\n",
    "solar = 570\n",
    "full_battery = constants[\"total_battery_energy\"]"
   ]
  },
  {
   "cell_type": "code",
   "execution_count": null,
   "metadata": {},
   "outputs": [],
   "source": [
    "height = []\n",
    "with open(\"HighwayCircuitHeights.json\", \"r\") as f:\n",
    "    data = json.load(f)\n",
    "    chunk_size = data[1][\"distance\"]-data[0][\"distance\"] # Chunk size is assumed constant throughout height data.\n",
    "    num_chunks = len(data)\n",
    "    target = full_battery*(data[-1][\"distance\"]/1000000)\n",
    "    for chunk in data:\n",
    "        height.append(chunk[\"height\"])\n",
    "        \n",
    "grad = [math.atan((height[(i+1) % num_chunks]-height[(i-1) % num_chunks])/(2*chunk_size)) for i in range(len(height))]\n"
   ]
  },
  {
   "cell_type": "code",
   "execution_count": null,
   "metadata": {},
   "outputs": [],
   "source": [
    "plt.plot([20*i for i in range(num_chunks)], height)"
   ]
  },
  {
   "cell_type": "code",
   "execution_count": null,
   "metadata": {},
   "outputs": [],
   "source": [
    "plt.plot([20*i for i in range(num_chunks)], grad)"
   ]
  },
  {
   "cell_type": "markdown",
   "metadata": {},
   "source": [
    "Hyperparameters:"
   ]
  },
  {
   "cell_type": "code",
   "execution_count": null,
   "metadata": {},
   "outputs": [],
   "source": [
    "lamb = 0.9\n",
    "lr = 1\n",
    "init_v = 30"
   ]
  },
  {
   "cell_type": "code",
   "execution_count": null,
   "metadata": {},
   "outputs": [],
   "source": [
    "def accel_gen(v):\n",
    "    return([v[i]*(v[(i+1) % num_chunks]-v[(i-1) % num_chunks]) / (2*chunk_size) for i in range(num_chunks)])"
   ]
  },
  {
   "cell_type": "code",
   "execution_count": null,
   "metadata": {},
   "outputs": [],
   "source": [
    "def Phi(v,theta): # Phi_i\n",
    "    Aero = Cdrag * rho * frontal_area * v**3 / 2\n",
    "    Roll = Croll * m * v * g * math.cos(theta)\n",
    "    Grad = m * v * g * math.sin(theta) \n",
    "    return Aero + Roll + Grad"
   ]
  },
  {
   "cell_type": "code",
   "execution_count": null,
   "metadata": {},
   "outputs": [],
   "source": [
    "def del_Phi(v,theta): # dPhi_i/dv_i\n",
    "    return 3/2 * Cdrag * rho * frontal_area * v**2 + Croll * m * g * math.cos(theta) + m * g * math.sin(theta) "
   ]
  },
  {
   "cell_type": "code",
   "execution_count": null,
   "metadata": {},
   "outputs": [],
   "source": [
    "def P_star(v, a): # P* does not take into account max regen power production Rmax.\n",
    "    Ps = [auxiliary - solar]*num_chunks\n",
    "    for i in range(num_chunks):\n",
    "        motor_power = m*v[i]*a[i] + Phi(v[i],grad[i])\n",
    "        if motor_power >= 0:\n",
    "            Ps[i] += motor_power/motor_efficiency\n",
    "        else:\n",
    "            Ps[i] += motor_power*regen_efficiency\n",
    "    \n",
    "    return Ps"
   ]
  },
  {
   "cell_type": "code",
   "execution_count": null,
   "metadata": {},
   "outputs": [],
   "source": [
    "def P_star_error(Ps, v):\n",
    "\n",
    "    return (1-lamb)*(chunk_size/target*sum(Ps)-1)**2+lamb*sum([1/v[i] for i in range(num_chunks)])*(20/num_chunks)"
   ]
  },
  {
   "cell_type": "code",
   "execution_count": null,
   "metadata": {},
   "outputs": [],
   "source": [
    "def P_star_error_gradients(Ps, v, a):\n",
    "\n",
    "    dP_dv = [0]*num_chunks # dP*(v_i,a_i)/dv_i\n",
    "    dP_dv_offset = [0]*num_chunks # dP*(v_i,a_i)/dv_i+1\n",
    "    Ps_sum = sum(Ps)\n",
    "\n",
    "    for i in range(num_chunks):\n",
    "        motor_power = m*v[i]*a[i] + Phi(v[i], grad[i])\n",
    "        del_motor_power = m*2*a[i]+del_Phi(v[i], grad[i])\n",
    "        if motor_power >= 0:\n",
    "            dP_dv[i] = del_motor_power/motor_efficiency\n",
    "            dP_dv_offset[i] = v[i]/(2*chunk_size*motor_efficiency)\n",
    "        else:\n",
    "            dP_dv[i] = del_motor_power*regen_efficiency\n",
    "            dP_dv_offset[i] = v[i]*regen_efficiency/(2*chunk_size)\n",
    "            \n",
    "    error_grad = [0]*num_chunks\n",
    "\n",
    "    for i in range(num_chunks):\n",
    "        error_grad[i] = 2*(1-lamb)*(chunk_size/target)*(dP_dv[i] + dP_dv_offset[(i-1) % num_chunks] - dP_dv_offset[(i+1) % num_chunks])*(chunk_size/target*Ps_sum-1)-lamb/(v[i]**2)*(20/num_chunks)\n",
    "\n",
    "    return error_grad"
   ]
  },
  {
   "cell_type": "markdown",
   "metadata": {},
   "source": [
    "Core Gradient Descent Loop"
   ]
  },
  {
   "cell_type": "code",
   "execution_count": null,
   "metadata": {},
   "outputs": [],
   "source": [
    "%matplotlib inline\n",
    "\n",
    "v = [init_v]*num_chunks\n",
    "\n",
    "loss_history = []\n",
    "v_history = []\n",
    "counter = 0\n",
    "\n",
    "cc = 5000\n",
    "best_error = 9999\n",
    "best_v = v\n",
    "\n",
    "while True:\n",
    "\n",
    "    a = accel_gen(v)\n",
    "    Ps = P_star(v, a)\n",
    "    error = P_star_error(Ps, v)\n",
    "\n",
    "    if counter % (cc//20) == 0: \n",
    "        plt.plot([20*i for i in range(num_chunks)], v)\n",
    "        plt.show\n",
    "        v_history.append(v)\n",
    "\n",
    "    if error < best_error:\n",
    "        best_error = error\n",
    "        best_v = v\n",
    "\n",
    "    loss_history.append(error)\n",
    "\n",
    "    if (error-best_error) > best_error*2:\n",
    "        break\n",
    "\n",
    "    #\n",
    "    if (error) > best_error:\n",
    "        break\n",
    "    #\n",
    "\n",
    "    ### DELETEME\n",
    "    if counter >= cc:\n",
    "        print(error)\n",
    "        break\n",
    "    ###\n",
    "\n",
    "    counter += 1\n",
    "\n",
    "    error_grads = P_star_error_gradients(Ps, v, a)\n",
    "    erg_sum = sum([abs(error_grad) for error_grad in error_grads])\n",
    "    v = [abs(v[i]-lr*error_grads[i]/erg_sum) for i in range(num_chunks)]\n",
    "    \n"
   ]
  },
  {
   "cell_type": "code",
   "execution_count": null,
   "metadata": {},
   "outputs": [],
   "source": [
    "print(best_error)\n",
    "plt.plot([20*i for i in range(num_chunks)], best_v)\n",
    "plt.show()"
   ]
  },
  {
   "cell_type": "code",
   "execution_count": null,
   "metadata": {},
   "outputs": [],
   "source": [
    "plt.plot(loss_history)\n",
    "plt.show()\n",
    "\n",
    "print(loss_history[-1])"
   ]
  }
 ],
 "metadata": {
  "kernelspec": {
   "display_name": "Python 3.10.8 64-bit (microsoft store)",
   "language": "python",
   "name": "python3"
  },
  "language_info": {
   "codemirror_mode": {
    "name": "ipython",
    "version": 3
   },
   "file_extension": ".py",
   "mimetype": "text/x-python",
   "name": "python",
   "nbconvert_exporter": "python",
   "pygments_lexer": "ipython3",
   "version": "3.10.9"
  },
  "orig_nbformat": 4,
  "vscode": {
   "interpreter": {
    "hash": "b941bf498f276488674bf31f1b0cc37176298e8d600eb280d450861b05bebb56"
   }
  }
 },
 "nbformat": 4,
 "nbformat_minor": 2
}
