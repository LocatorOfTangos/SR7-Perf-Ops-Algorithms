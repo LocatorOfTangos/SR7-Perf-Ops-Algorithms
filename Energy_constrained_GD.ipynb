{
 "cells": [
  {
   "cell_type": "code",
   "execution_count": null,
   "metadata": {},
   "outputs": [],
   "source": [
    "import json\n",
    "import matplotlib.pyplot as plt\n",
    "import math\n",
    "from tqdm import tqdm\n",
    "from math import cos, sin, tan\n",
    "from random import random\n",
    "lamb = 0"
   ]
  },
  {
   "cell_type": "code",
   "execution_count": null,
   "metadata": {},
   "outputs": [],
   "source": [
    "with open(\"car_info.json\", \"r\") as f:\n",
    "    constants = json.load(f)\n",
    "\n",
    "m = constants[\"car_mass\"] \\\n",
    "    + constants[\"occupant_mass\"] * constants[\"occupant_count\"]\n",
    "me = m + (constants[\"rotational_inertia_front\"]+constants[\"rotational_inertia_back\"])/constants[\"wheel_radius\"]**2\n",
    "Cdrag = constants[\"drag_coefficient\"]\n",
    "Croll = constants[\"rolling_resistance_coefficient\"]\n",
    "g = constants[\"gravity\"]\n",
    "rho = constants[\"air_density\"]\n",
    "frontal_area = constants[\"frontal_area\"]\n",
    "motor_efficiency = constants[\"motor_efficiency\"]\n",
    "auxiliary = constants[\"auxiliary_power\"]\n",
    "regen_efficiency = constants[\"regen_efficiency\"]\n",
    "solar = 570\n",
    "full_battery = constants[\"total_battery_energy\"]"
   ]
  },
  {
   "cell_type": "code",
   "execution_count": null,
   "metadata": {},
   "outputs": [],
   "source": [
    "height = []\n",
    "with open(\"HighwayCircuitHeights.json\", \"r\") as f:\n",
    "    data = json.load(f)\n",
    "    chunk_size = data[1][\"distance\"]-data[0][\"distance\"] # Chunk size is assumed constant throughout height data.\n",
    "    num_chunks = len(data)\n",
    "    target = full_battery*(data[-1][\"distance\"]/1000000)\n",
    "    for chunk in data:\n",
    "        height.append(chunk[\"height\"])\n",
    "\n",
    "c=chunk_size\n",
    "n=num_chunks\n",
    "\n",
    "grad = [math.atan((height[(i+1) % n]-height[(i-1) % n])/(2*c)) for i in range(len(height))]\n"
   ]
  },
  {
   "cell_type": "code",
   "execution_count": null,
   "metadata": {},
   "outputs": [],
   "source": [
    "plt.plot([20*i for i in range(num_chunks)], height)"
   ]
  },
  {
   "cell_type": "code",
   "execution_count": null,
   "metadata": {},
   "outputs": [],
   "source": [
    "plt.plot([20*i for i in range(num_chunks)], grad)"
   ]
  },
  {
   "cell_type": "markdown",
   "metadata": {},
   "source": [
    "Hyperparameters:"
   ]
  },
  {
   "cell_type": "code",
   "execution_count": null,
   "metadata": {},
   "outputs": [],
   "source": [
    "lr_max = 0.9\n",
    "init_v = 30\n",
    "epsilon = 136800000*0.005"
   ]
  },
  {
   "cell_type": "code",
   "execution_count": null,
   "metadata": {},
   "outputs": [],
   "source": [
    "def Phi(v,theta): # Phi_i\n",
    "    Aero = Cdrag * rho * frontal_area * v**2 / 2\n",
    "    Roll = Croll * m * g * cos(theta)\n",
    "    Grad = m * g * sin(theta) \n",
    "    return Aero + Roll + Grad"
   ]
  },
  {
   "cell_type": "code",
   "execution_count": null,
   "metadata": {},
   "outputs": [],
   "source": [
    "def Hi_star(v):\n",
    "    Hs = [0]*n\n",
    "\n",
    "    for i in range(n):\n",
    "        Hs[i] = c*(auxiliary-solar)/(v[i]*cos(grad[i])) + c/(cos(grad[i])*motor_efficiency)*Phi(v[i],grad[i])\n",
    "\n",
    "    return Hs"
   ]
  },
  {
   "cell_type": "code",
   "execution_count": null,
   "metadata": {},
   "outputs": [],
   "source": [
    "def Hi_star_error(Hs, v):\n",
    "    return (1-lamb)*(sum(Hs)-target)**2+lamb*sum([c/(v[i]*cos(grad[i])) for i in range(num_chunks)])"
   ]
  },
  {
   "cell_type": "code",
   "execution_count": null,
   "metadata": {},
   "outputs": [],
   "source": [
    "def Hi_star_error_gradients(Hs, v):\n",
    "    error_grad = [0]*n\n",
    "\n",
    "    for i in range(n):\n",
    "        error_grad[i] = 2*(1-lamb)*(-c*(auxiliary-solar)/(v[i]**2 *cos(grad[i])) + c/(cos(grad[i])*motor_efficiency)*Cdrag*rho*frontal_area*v[i])*(sum(Hs)-target)-lamb*c/(v[i]**2 *cos(grad[i]))\n",
    "\n",
    "    return error_grad\n"
   ]
  },
  {
   "cell_type": "markdown",
   "metadata": {},
   "source": [
    "Core Gradient Descent Loop"
   ]
  },
  {
   "cell_type": "code",
   "execution_count": null,
   "metadata": {},
   "outputs": [],
   "source": [
    "%matplotlib inline\n",
    "\n",
    "v = [init_v]*n\n",
    "#v = [vee+random()/10 for vee in v]\n",
    "\n",
    "loss_history = []\n",
    "v_history = []\n",
    "\n",
    "cc = 5000\n",
    "best_v = v\n",
    "\n",
    "lamb = 0\n",
    "\n",
    "lr = lr_max\n",
    "init_error = Hi_star_error(Hi_star(v), v)\n",
    "best_error = init_error\n",
    "\n",
    "for count in tqdm(range(cc)):\n",
    "\n",
    "    if count % (cc//20) == 0: \n",
    "        plt.plot([20*i for i in range(num_chunks)], v)\n",
    "        plt.show\n",
    "        v_history.append(v)\n",
    "\n",
    "    Hs = Hi_star(v)\n",
    "    error = Hi_star_error(Hs, v)\n",
    "\n",
    "    if error <= best_error:\n",
    "        best_error = error\n",
    "        best_v = v\n",
    "        loss_history.append(error)\n",
    "    else:\n",
    "        v = best_v\n",
    "        lr = lr_max*math.sqrt(error/init_error)\n",
    "\n",
    "    if error < 1e-05:\n",
    "        break\n",
    "\n",
    "    #if (error-best_error) > best_error*2:\n",
    "    #    break\n",
    "\n",
    "    #\n",
    "    #if (error) > best_error:\n",
    "    #    break\n",
    "    #\n",
    "\n",
    "    ### DELETEME\n",
    "    if count >= cc:\n",
    "        break\n",
    "    ###\n",
    "\n",
    "    error_grads = Hi_star_error_gradients(Hs, v)\n",
    "    erg_sum = sum([abs(error_grad) for error_grad in error_grads])\n",
    "    v = [abs(v[i]-lr*error_grads[i]/erg_sum) for i in range(num_chunks)]\n",
    "    \n"
   ]
  },
  {
   "cell_type": "code",
   "execution_count": null,
   "metadata": {},
   "outputs": [],
   "source": [
    "print(\"Best error:\",best_error, \"\\nAverage velocity:\", sum(best_v)/len(best_v)*3.6)\n",
    "plt.plot([20*i for i in range(num_chunks)], best_v)\n",
    "plt.show()"
   ]
  },
  {
   "cell_type": "code",
   "execution_count": null,
   "metadata": {},
   "outputs": [],
   "source": [
    "print(\"Log loss history\")\n",
    "plt.plot([math.log(loss+1) for loss in loss_history])\n",
    "plt.show()\n",
    "\n",
    "print(\"Final loop error:\", loss_history[-1])"
   ]
  },
  {
   "cell_type": "code",
   "execution_count": null,
   "metadata": {},
   "outputs": [],
   "source": [
    "v = best_v\n",
    "Hs = Hi_star(v)\n",
    "total_lap_energy= sum(Hs)\n",
    "print(full_battery, total_lap_energy*1000000/(n*c))"
   ]
  }
 ],
 "metadata": {
  "kernelspec": {
   "display_name": "Python 3.10.8 64-bit (microsoft store)",
   "language": "python",
   "name": "python3"
  },
  "language_info": {
   "codemirror_mode": {
    "name": "ipython",
    "version": 3
   },
   "file_extension": ".py",
   "mimetype": "text/x-python",
   "name": "python",
   "nbconvert_exporter": "python",
   "pygments_lexer": "ipython3",
   "version": "3.10.9"
  },
  "orig_nbformat": 4,
  "vscode": {
   "interpreter": {
    "hash": "b941bf498f276488674bf31f1b0cc37176298e8d600eb280d450861b05bebb56"
   }
  }
 },
 "nbformat": 4,
 "nbformat_minor": 2
}
